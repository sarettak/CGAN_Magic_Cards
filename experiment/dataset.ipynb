{
 "metadata": {
  "language_info": {
   "codemirror_mode": {
    "name": "ipython",
    "version": 3
   },
   "file_extension": ".py",
   "mimetype": "text/x-python",
   "name": "python",
   "nbconvert_exporter": "python",
   "pygments_lexer": "ipython3",
   "version": "3.6.9-final"
  },
  "orig_nbformat": 2,
  "kernelspec": {
   "name": "python36964bit6b1f1665978149c69359949cc99a65a2",
   "display_name": "Python 3.6.9 64-bit"
  }
 },
 "nbformat": 4,
 "nbformat_minor": 2,
 "cells": [
  {
   "cell_type": "code",
   "execution_count": 6,
   "metadata": {},
   "outputs": [],
   "source": [
    "import json\n",
    "import os\n",
    "import numpy as np\n",
    "import re\n",
    "import imageio"
   ]
  },
  {
   "cell_type": "code",
   "execution_count": 160,
   "metadata": {
    "tags": []
   },
   "outputs": [],
   "source": [
    "METADATA_FILE = \"../data/AllCards.json\"\n",
    "DATASET_FOLDERS_FILE = \"../data/dataset_folders\"\n",
    "metadata = json.load(open(METADATA_FILE))\n",
    "dataset_folders = open(DATASET_FOLDERS_FILE)\n",
    "data_dict = {}\n",
    "classes_dict = {}\n",
    "\n",
    "for folder in dataset_folders:\n",
    "   folder = \"../data/\" + folder.strip() +\"/\"\n",
    "   for card_filename in os.listdir(folder):\n",
    "      card_name = re.split(\"( \\[.*\\])?\\.\", card_filename)[0]\n",
    "      try:\n",
    "         if ((\"Creature\" in metadata[card_name][\"type\"] or \"Land\" in metadata[card_name][\"type\"])\n",
    "             and metadata[card_name][\"subtypes\"]):\n",
    "            if card_name in data_dict.keys():\n",
    "               data_dict[card_name].append(folder + card_filename)\n",
    "            else:\n",
    "               data_dict[card_name] = [folder + card_filename]\n",
    "      except:\n",
    "         continue\n",
    "\n",
    "for k, v in data_dict.items():\n",
    "   k2 = metadata[k][\"subtypes\"][0]\n",
    "   if k2 in classes_dict.keys():\n",
    "      classes_dict[k2].extend(v)\n",
    "   else:\n",
    "      classes_dict[k2] = v.copy()"
   ]
  },
  {
   "cell_type": "code",
   "execution_count": 3,
   "metadata": {
    "tags": []
   },
   "outputs": [
    {
     "output_type": "error",
     "ename": "NameError",
     "evalue": "name 'statistics' is not defined",
     "traceback": [
      "\u001b[0;31m---------------------------------------------------------------------------\u001b[0m",
      "\u001b[0;31mNameError\u001b[0m                                 Traceback (most recent call last)",
      "\u001b[0;32m<ipython-input-3-e144ba21b11e>\u001b[0m in \u001b[0;36m<module>\u001b[0;34m\u001b[0m\n\u001b[0;32m----> 1\u001b[0;31m \u001b[0mstatistics\u001b[0m\u001b[0;34m(\u001b[0m\u001b[0mdata_dict\u001b[0m\u001b[0;34m,\u001b[0m \u001b[0mclasses_dict\u001b[0m\u001b[0;34m)\u001b[0m\u001b[0;34m\u001b[0m\u001b[0;34m\u001b[0m\u001b[0m\n\u001b[0m",
      "\u001b[0;31mNameError\u001b[0m: name 'statistics' is not defined"
     ]
    }
   ],
   "source": [
    "statistics(data_dict, classes_dict)"
   ]
  },
  {
   "cell_type": "code",
   "execution_count": 4,
   "metadata": {},
   "outputs": [],
   "source": [
    "def statistics(data_dict, classes_dict):\n",
    "    print(\"Total number of cards\")\n",
    "    print(sum([len(v) for v in data_dict.values()]))\n",
    "    print(\"\\n\")\n",
    "    print(\"Total number of unique cards\")\n",
    "    print(len(data_dict))\n",
    "    print(\"\\n\")   \n",
    "    print(\"Number of Land cards:\")\n",
    "    print(\", \".join([f\"{k}: {len(v)}\" for k, v in data_dict.items() if len(v) > 100]))\n",
    "    print(\"\\n\")\n",
    "    print(\"Mean number of Creatures repetitions:\")\n",
    "    print(np.mean([len(v) for k, v in data_dict.items() if len(v) < 100]))\n",
    "    print(\"\\n\")\n",
    "    print(\"Max number of Creatures repetitions:\")\n",
    "    print(max([(k, len(v)) for k, v in data_dict.items() if len(v) < 100], key=(lambda x: x[1])))\n",
    "    print(\"\\n\")\n",
    "    print(\"Classes: \")\n",
    "    print(sorted([(k, len(v)) for k, v in classes_dict.items()], key=lambda x: x[1], reverse=True))\n"
   ]
  },
  {
   "cell_type": "code",
   "execution_count": 5,
   "metadata": {},
   "outputs": [
    {
     "output_type": "error",
     "ename": "NameError",
     "evalue": "name 'data_dict' is not defined",
     "traceback": [
      "\u001b[0;31m---------------------------------------------------------------------------\u001b[0m",
      "\u001b[0;31mNameError\u001b[0m                                 Traceback (most recent call last)",
      "\u001b[0;32m<ipython-input-5-e1d19ecde844>\u001b[0m in \u001b[0;36m<module>\u001b[0;34m\u001b[0m\n\u001b[0;32m----> 1\u001b[0;31m \u001b[0mdata_dict\u001b[0m\u001b[0;34m[\u001b[0m\u001b[0;34m\"Academy Researchers\"\u001b[0m\u001b[0;34m]\u001b[0m\u001b[0;34m\u001b[0m\u001b[0;34m\u001b[0m\u001b[0m\n\u001b[0m",
      "\u001b[0;31mNameError\u001b[0m: name 'data_dict' is not defined"
     ]
    }
   ],
   "source": [
    "data_dict[\"Academy Researchers\"]"
   ]
  },
  {
   "cell_type": "code",
   "execution_count": null,
   "metadata": {},
   "outputs": [],
   "source": []
  }
 ]
}