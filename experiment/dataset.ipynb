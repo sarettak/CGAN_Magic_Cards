{
 "metadata": {
  "language_info": {
   "codemirror_mode": {
    "name": "ipython",
    "version": 3
   },
   "file_extension": ".py",
   "mimetype": "text/x-python",
   "name": "python",
   "nbconvert_exporter": "python",
   "pygments_lexer": "ipython3",
   "version": "3.6.9-final"
  },
  "orig_nbformat": 2,
  "kernelspec": {
   "name": "python36964bit6b1f1665978149c69359949cc99a65a2",
   "display_name": "Python 3.6.9 64-bit"
  }
 },
 "nbformat": 4,
 "nbformat_minor": 2,
 "cells": [
  {
   "cell_type": "code",
   "execution_count": 1,
   "metadata": {},
   "outputs": [],
   "source": [
    "import json\n",
    "import os\n",
    "import numpy as np\n",
    "import re\n",
    "import imageio"
   ]
  },
  {
   "cell_type": "code",
   "execution_count": 2,
   "metadata": {
    "tags": []
   },
   "outputs": [
    {
     "output_type": "error",
     "ename": "FileNotFoundError",
     "evalue": "[Errno 2] No such file or directory: '../data/AllCards.json'",
     "traceback": [
      "\u001b[0;31m---------------------------------------------------------------------------\u001b[0m",
      "\u001b[0;31mFileNotFoundError\u001b[0m                         Traceback (most recent call last)",
      "\u001b[0;32m<ipython-input-2-be204e5e4e4c>\u001b[0m in \u001b[0;36m<module>\u001b[0;34m\u001b[0m\n\u001b[1;32m      1\u001b[0m \u001b[0mMETADATA_FILE\u001b[0m \u001b[0;34m=\u001b[0m \u001b[0;34m\"../data/AllCards.json\"\u001b[0m\u001b[0;34m\u001b[0m\u001b[0;34m\u001b[0m\u001b[0m\n\u001b[1;32m      2\u001b[0m \u001b[0mDATASET_FOLDERS_FILE\u001b[0m \u001b[0;34m=\u001b[0m \u001b[0;34m\"../data/dataset_folders\"\u001b[0m\u001b[0;34m\u001b[0m\u001b[0;34m\u001b[0m\u001b[0m\n\u001b[0;32m----> 3\u001b[0;31m \u001b[0mmetadata\u001b[0m \u001b[0;34m=\u001b[0m \u001b[0mjson\u001b[0m\u001b[0;34m.\u001b[0m\u001b[0mload\u001b[0m\u001b[0;34m(\u001b[0m\u001b[0mopen\u001b[0m\u001b[0;34m(\u001b[0m\u001b[0mMETADATA_FILE\u001b[0m\u001b[0;34m)\u001b[0m\u001b[0;34m)\u001b[0m\u001b[0;34m\u001b[0m\u001b[0;34m\u001b[0m\u001b[0m\n\u001b[0m\u001b[1;32m      4\u001b[0m \u001b[0mdataset_folders\u001b[0m \u001b[0;34m=\u001b[0m \u001b[0mopen\u001b[0m\u001b[0;34m(\u001b[0m\u001b[0mDATASET_FOLDERS_FILE\u001b[0m\u001b[0;34m)\u001b[0m\u001b[0;34m\u001b[0m\u001b[0;34m\u001b[0m\u001b[0m\n\u001b[1;32m      5\u001b[0m \u001b[0mdata_dict\u001b[0m \u001b[0;34m=\u001b[0m \u001b[0;34m{\u001b[0m\u001b[0;34m}\u001b[0m\u001b[0;34m\u001b[0m\u001b[0;34m\u001b[0m\u001b[0m\n",
      "\u001b[0;31mFileNotFoundError\u001b[0m: [Errno 2] No such file or directory: '../data/AllCards.json'"
     ]
    }
   ],
   "source": [
    "DATA_FOLDER = \"data\"\n",
    "METADATA_FILE = \"AllCards.json\"\n",
    "DATASET_FOLDERS_FILE = \"dataset_folders\"\n",
    "metadata = json.load(open(os.path.join(DATA_FOLDER, METADATA_FILE)))\n",
    "dataset_folders = open(os.path.join(DATA_FOLDER, DATASET_FOLDERS_FILE))\n",
    "data_dict = {}\n",
    "classes_dict = {}\n",
    "\n",
    "for folder in dataset_folders:\n",
    "   folder = os.path.join(DATA_FOLDER, folder.strip())\n",
    "   for card_filename in os.listdir(folder):\n",
    "      card_name = re.split(\"( \\[.*\\])?\\.\", card_filename)[0]\n",
    "      try:\n",
    "         if ((\"Creature\" in metadata[card_name][\"type\"] or \"Land\" in metadata[card_name][\"type\"])\n",
    "             and metadata[card_name][\"subtypes\"]):\n",
    "            card_path = os.path.join(folder, card_filename)\n",
    "            if card_name in data_dict.keys():\n",
    "               data_dict[card_name].append(card_path)\n",
    "            else:\n",
    "               data_dict[card_name] = [card_path]\n",
    "      except:\n",
    "         continue\n",
    "\n",
    "for k, v in data_dict.items():\n",
    "   k2 = metadata[k][\"subtypes\"][0]\n",
    "   if k2 in classes_dict.keys():\n",
    "      classes_dict[k2].extend(v)\n",
    "   else:\n",
    "      classes_dict[k2] = v.copy()"
   ]
  },
  {
   "cell_type": "code",
   "execution_count": 3,
   "metadata": {
    "tags": []
   },
   "outputs": [
    {
     "output_type": "error",
     "ename": "NameError",
     "evalue": "name 'statistics' is not defined",
     "traceback": [
      "\u001b[0;31m---------------------------------------------------------------------------\u001b[0m",
      "\u001b[0;31mNameError\u001b[0m                                 Traceback (most recent call last)",
      "\u001b[0;32m<ipython-input-3-e144ba21b11e>\u001b[0m in \u001b[0;36m<module>\u001b[0;34m\u001b[0m\n\u001b[0;32m----> 1\u001b[0;31m \u001b[0mstatistics\u001b[0m\u001b[0;34m(\u001b[0m\u001b[0mdata_dict\u001b[0m\u001b[0;34m,\u001b[0m \u001b[0mclasses_dict\u001b[0m\u001b[0;34m)\u001b[0m\u001b[0;34m\u001b[0m\u001b[0;34m\u001b[0m\u001b[0m\n\u001b[0m",
      "\u001b[0;31mNameError\u001b[0m: name 'statistics' is not defined"
     ]
    }
   ],
   "source": [
    "statistics(data_dict, classes_dict)"
   ]
  },
  {
   "cell_type": "code",
   "execution_count": 4,
   "metadata": {},
   "outputs": [],
   "source": [
    "def statistics(data_dict, classes_dict):\n",
    "    print(\"Total number of cards\")\n",
    "    print(sum([len(v) for v in data_dict.values()]))\n",
    "    print(\"\\n\")\n",
    "    print(\"Total number of unique cards\")\n",
    "    print(len(data_dict))\n",
    "    print(\"\\n\")   \n",
    "    print(\"Number of Land cards:\")\n",
    "    print(\", \".join([f\"{k}: {len(v)}\" for k, v in data_dict.items() if len(v) > 100]))\n",
    "    print(\"\\n\")\n",
    "    print(\"Mean number of Creatures repetitions:\")\n",
    "    print(np.mean([len(v) for k, v in data_dict.items() if len(v) < 100]))\n",
    "    print(\"\\n\")\n",
    "    print(\"Max number of Creatures repetitions:\")\n",
    "    print(max([(k, len(v)) for k, v in data_dict.items() if len(v) < 100], key=(lambda x: x[1])))\n",
    "    print(\"\\n\")\n",
    "    print(\"Classes: \")\n",
    "    print(sorted([(k, len(v)) for k, v in classes_dict.items()], key=lambda x: x[1], reverse=True))\n",
    "    print(\"\\n\")\n",
    "    print(\"Num classes: \", len(classes_dict))\n",
    "statistics(data_dict, classes_dict)"
   ]
  },
  {
   "cell_type": "code",
   "execution_count": 5,
   "metadata": {},
   "outputs": [
    {
     "output_type": "error",
     "ename": "NameError",
     "evalue": "name 'data_dict' is not defined",
     "traceback": [
      "\u001b[0;31m---------------------------------------------------------------------------\u001b[0m",
      "\u001b[0;31mNameError\u001b[0m                                 Traceback (most recent call last)",
      "\u001b[0;32m<ipython-input-5-e1d19ecde844>\u001b[0m in \u001b[0;36m<module>\u001b[0;34m\u001b[0m\n\u001b[0;32m----> 1\u001b[0;31m \u001b[0mdata_dict\u001b[0m\u001b[0;34m[\u001b[0m\u001b[0;34m\"Academy Researchers\"\u001b[0m\u001b[0;34m]\u001b[0m\u001b[0;34m\u001b[0m\u001b[0;34m\u001b[0m\u001b[0m\n\u001b[0m",
      "\u001b[0;31mNameError\u001b[0m: name 'data_dict' is not defined"
     ]
    }
   ],
   "source": [
    "data_dict[\"Academy Researchers\"]"
   ]
  },
  {
   "cell_type": "code",
   "execution_count": null,
   "metadata": {},
   "outputs": [],
   "source": []
  }
 ]
}