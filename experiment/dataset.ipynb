{
 "metadata": {
  "language_info": {
   "codemirror_mode": {
    "name": "ipython",
    "version": 3
   },
   "file_extension": ".py",
   "mimetype": "text/x-python",
   "name": "python",
   "nbconvert_exporter": "python",
   "pygments_lexer": "ipython3",
   "version": "3.6.9-final"
  },
  "orig_nbformat": 2,
  "kernelspec": {
   "name": "python36964bit6b1f1665978149c69359949cc99a65a2",
   "display_name": "Python 3.6.9 64-bit"
  }
 },
 "nbformat": 4,
 "nbformat_minor": 2,
 "cells": [
  {
   "cell_type": "code",
   "execution_count": 35,
   "metadata": {},
   "outputs": [],
   "source": [
    "import json\n",
    "import os\n",
    "import numpy as np\n",
    "import re\n",
    "import imageio"
   ]
  },
  {
   "cell_type": "code",
   "execution_count": 160,
   "metadata": {
    "tags": []
   },
   "outputs": [],
   "source": [
    "METADATA_FILE = \"../data/AllCards.json\"\n",
    "DATASET_FOLDERS_FILE = \"../data/dataset_folders\"\n",
    "metadata = json.load(open(METADATA_FILE))\n",
    "dataset_folders = open(DATASET_FOLDERS_FILE)\n",
    "data_dict = {}\n",
    "classes_dict = {}\n",
    "\n",
    "for folder in dataset_folders:\n",
    "   folder = \"../data/\" + folder.strip() +\"/\"\n",
    "   for card_filename in os.listdir(folder):\n",
    "      card_name = re.split(\"( \\[.*\\])?\\.\", card_filename)[0]\n",
    "      try:\n",
    "         if ((\"Creature\" in metadata[card_name][\"type\"] or \"Land\" in metadata[card_name][\"type\"])\n",
    "             and metadata[card_name][\"subtypes\"]):\n",
    "            if card_name in data_dict.keys():\n",
    "               data_dict[card_name].append(folder + card_filename)\n",
    "            else:\n",
    "               data_dict[card_name] = [folder + card_filename]\n",
    "      except:\n",
    "         continue\n",
    "\n",
    "for k, v in data_dict.items():\n",
    "   k2 = metadata[k][\"subtypes\"][0]\n",
    "   if k2 in classes_dict.keys():\n",
    "      classes_dict[k2].extend(v)\n",
    "   else:\n",
    "      classes_dict[k2] = v.copy()"
   ]
  },
  {
   "cell_type": "code",
   "execution_count": 178,
   "metadata": {
    "tags": []
   },
   "outputs": [
    {
     "output_type": "stream",
     "name": "stdout",
     "text": "Total number of cards\n19743\n\n\nTotal number of unique cards\n10409\n\n\nNumber of Land cards:\nIsland: 400, Mountain: 428, Forest: 429, Plains: 398, Swamp: 415\n\n\nMean number of Creatures repetitions:\n1.6986735870818916\n\n\nMax number of Creatures repetitions:\n('Serra Angel', 28)\n\n\nClasses: \n[('Human', 3502), ('Elemental', 797), ('Elf', 773), ('Zombie', 719), ('Goblin', 679), ('Spirit', 543), ('Forest', 463), ('Mountain', 456), ('Swamp', 444), ('Island', 427), ('Plains', 427), ('Beast', 409), ('Bird', 406), ('Vampire', 397), ('Dragon', 397), ('Angel', 375), ('Merfolk', 326), ('Cat', 292), ('Giant', 260), ('Insect', 247), ('Wall', 233), ('Construct', 217), ('Golem', 195), ('Horror', 187), ('Demon', 186), ('Eldrazi', 179), ('Shapeshifter', 162), ('Faerie', 153), ('Wurm', 149), ('Snake', 143), ('Sliver', 138), ('Illusion', 137), ('Drake', 129), ('Spider', 126), ('Ogre', 120), ('Minotaur', 107), ('Avatar', 106), ('Treefolk', 102), ('Dinosaur', 101), ('Rat', 100), ('Plant', 100), ('Orc', 98), ('Sphinx', 97), ('Elephant', 93), ('Vedalken', 91), ('Gate', 90), ('Kithkin', 89), ('Dwarf', 87), ('Djinn', 86), ('Kor', 85), ('Imp', 83), ('Skeleton', 81), ('Wolf', 80), ('Fungus', 78), ('Centaur', 76), ('Lizard', 75), ('Myr', 75), ('Griffin', 72), ('Hound', 69), ('Hydra', 66), ('Troll', 65), ('Boar', 61), ('Kavu', 58), ('Specter', 54), ('Viashino', 54), ('Ooze', 54), ('Serpent', 53), ('Nightmare', 53), ('Rhino', 53), ('Ape', 50), ('Devil', 50), ('Dryad', 47), ('Gargoyle', 47), ('God', 47), ('Werewolf', 46), ('Bear', 45), ('Thrull', 45), ('Shade', 42), ('Fish', 42), ('Scarecrow', 40), ('Pegasus', 39), ('Leviathan', 39), ('Naga', 39), ('Thopter', 38), ('Cyclops', 37), ('Juggernaut', 37), ('Phoenix', 36), ('Elder', 36), ('Urza’s', 35), ('Unicorn', 32), ('Bat', 31), ('Frog', 31), ('Efreet', 29), ('Crab', 28), ('Horse', 27), ('Satyr', 27), ('Fox', 27), ('Basilisk', 26), ('Cleric', 26), ('Kraken', 26), ('Archon', 26), ('Jellyfish', 26), ('Lhurgoyf', 25), ('Elk', 25), ('Gorgon', 25), ('Crocodile', 24), ('Homunculus', 24), ('Incarnation', 24), ('Wraith', 23), ('Turtle', 23), ('Desert', 23), ('Nymph', 22), ('Hellion', 22), ('Jackal', 20), ('Gnome', 19), ('Wizard', 19), ('Ouphe', 19), ('Chimera', 19), ('Cephalid', 18), ('Yeti', 18), ('Atog', 18), ('Nightstalker', 18), ('Spike', 18), ('Antelope', 17), ('Scorpion', 17), ('Ox', 17), ('Aetherborn', 17), ('Siren', 16), ('Soltari', 16), ('Moonfolk', 15), ('Homarid', 14), ('Hag', 14), ('Weird', 14), ('Soldier', 13), ('Goat', 13), ('Octopus', 13), ('Minion', 12), ('Leech', 12), ('Worm', 12), ('Carrier', 12), ('Slith', 12), ('Dauthi', 12), ('Licid', 12), ('Praetor', 12), ('Manticore', 11), ('Drone', 11), ('Metathran', 10), ('Cockatrice', 10), ('Salamander', 10), ('Slug', 10), ('Gremlin', 10), ('Harpy', 9), ('Wolverine', 8), ('Hippo', 8), ('Rabbit', 8), ('Whale', 8), ('Assembly-Worker', 8), ('Kirin', 8), ('Kobold', 8), ('Masticore', 7), ('Orgg', 7), ('Zubera', 7), ('Thalakos', 7), ('Azra', 7), ('Badger', 6), ('Aurochs', 6), ('Squid', 6), ('Camel', 6), ('Noggle', 6), ('Nephilim', 6), ('Surrakar', 6), ('Eye', 5), ('Monkey', 5), ('Hippogriff', 5), ('Volver', 5), ('Bringer', 5), ('Mongoose', 5), ('Lair', 5), ('Starfish', 4), ('Sheep', 4), ('Wombat', 3), ('Sable', 3), ('Hyena', 3), ('Locus', 3), ('Artificer', 3), ('Squirrel', 3), ('Pangolin', 3), ('Knight', 2), ('Phelddagrif', 2), ('Spellshaper', 2), ('Mutant', 2), ('Oyster', 2), ('Trilobite', 2), ('Nautilus', 2), ('Lammasu', 2), ('Monger', 2), ('Dreadnought', 2), ('Pest', 2), ('Beeble', 2), ('Sponge', 2), ('Scout', 1), ('Egg', 1), ('Nomad', 1), ('Ferret', 1), ('Barbarian', 1), ('Lamia', 1), ('Spawn', 1), ('Brushwagg', 1), ('Rebel', 1), ('Warrior', 1), ('Shaman', 1), ('Berserker', 1), ('Mole', 1), ('Food', 1), ('Autobot', 1), ('Chicken', 1), ('Cyborg', 1)]\n"
    }
   ],
   "source": [
    "statistics(data_dict, classes_dict)"
   ]
  },
  {
   "cell_type": "code",
   "execution_count": 177,
   "metadata": {},
   "outputs": [],
   "source": [
    "def statistics(data_dict, classes_dict):\n",
    "    print(\"Total number of cards\")\n",
    "    print(sum([len(v) for v in data_dict.values()]))\n",
    "    print(\"\\n\")\n",
    "    print(\"Total number of unique cards\")\n",
    "    print(len(data_dict))\n",
    "    print(\"\\n\")   \n",
    "    print(\"Number of Land cards:\")\n",
    "    print(\", \".join([f\"{k}: {len(v)}\" for k, v in data_dict.items() if len(v) > 100]))\n",
    "    print(\"\\n\")\n",
    "    print(\"Mean number of Creatures repetitions:\")\n",
    "    print(np.mean([len(v) for k, v in data_dict.items() if len(v) < 100]))\n",
    "    print(\"\\n\")\n",
    "    print(\"Max number of Creatures repetitions:\")\n",
    "    print(max([(k, len(v)) for k, v in data_dict.items() if len(v) < 100], key=(lambda x: x[1])))\n",
    "    print(\"\\n\")\n",
    "    print(\"Classes: \")\n",
    "    print(sorted([(k, len(v)) for k, v in classes_dict.items()], key=lambda x: x[1], reverse=True))\n"
   ]
  },
  {
   "cell_type": "code",
   "execution_count": 133,
   "metadata": {},
   "outputs": [
    {
     "output_type": "execute_result",
     "data": {
      "text/plain": "['../data/Core Sets/10th Edition/Academy Researchers.jpg',\n \"../data/Expansions/Urza's Saga/Academy Researchers.jpg\"]"
     },
     "metadata": {},
     "execution_count": 133
    }
   ],
   "source": [
    "data_dict[\"Academy Researchers\"]"
   ]
  },
  {
   "cell_type": "code",
   "execution_count": null,
   "metadata": {},
   "outputs": [],
   "source": []
  }
 ]
}